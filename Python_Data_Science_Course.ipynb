{
  "nbformat": 4,
  "nbformat_minor": 0,
  "metadata": {
    "colab": {
      "provenance": [],
      "collapsed_sections": [],
      "mount_file_id": "1tREM0UZpP9jnxeaw0LXfS_mJlTcuysQ7",
      "authorship_tag": "ABX9TyN7stWicEuO5xt1eEkDxJ56",
      "include_colab_link": true
    },
    "kernelspec": {
      "name": "python3",
      "display_name": "Python 3"
    },
    "language_info": {
      "name": "python"
    }
  },
  "cells": [
    {
      "cell_type": "markdown",
      "metadata": {
        "id": "view-in-github",
        "colab_type": "text"
      },
      "source": [
        "<a href=\"https://colab.research.google.com/github/bethelchoto/Eight-Puzzle/blob/master/Python_Data_Science_Course.ipynb\" target=\"_parent\"><img src=\"https://colab.research.google.com/assets/colab-badge.svg\" alt=\"Open In Colab\"/></a>"
      ]
    },
    {
      "cell_type": "markdown",
      "source": [
        "#ADD TWO NUMBERS\n"
      ],
      "metadata": {
        "id": "PXyQ2XXzYv26"
      }
    },
    {
      "cell_type": "code",
      "source": [
        "y = 3"
      ],
      "metadata": {
        "id": "2xN3fxYrYmUj"
      },
      "execution_count": null,
      "outputs": []
    },
    {
      "cell_type": "code",
      "source": [
        "x  = 4"
      ],
      "metadata": {
        "id": "yDDQaRwkYmQ_"
      },
      "execution_count": null,
      "outputs": []
    },
    {
      "cell_type": "code",
      "source": [
        "z = x + y"
      ],
      "metadata": {
        "id": "MWHjtXkeYmPI"
      },
      "execution_count": null,
      "outputs": []
    },
    {
      "cell_type": "code",
      "source": [
        "print(z)"
      ],
      "metadata": {
        "colab": {
          "base_uri": "https://localhost:8080/"
        },
        "id": "MzYzzFiSYmMs",
        "outputId": "273576dc-e8be-48d1-861c-bc8b8021df49"
      },
      "execution_count": null,
      "outputs": [
        {
          "output_type": "stream",
          "name": "stdout",
          "text": [
            "7\n"
          ]
        }
      ]
    },
    {
      "cell_type": "markdown",
      "source": [
        "#MULTIPLYING TWO NUMBERS"
      ],
      "metadata": {
        "id": "xHmsx-i6ZIrV"
      }
    },
    {
      "cell_type": "code",
      "source": [
        "mult =  (z*x)"
      ],
      "metadata": {
        "id": "hNoK1pzgYl7f"
      },
      "execution_count": null,
      "outputs": []
    },
    {
      "cell_type": "code",
      "execution_count": null,
      "metadata": {
        "colab": {
          "base_uri": "https://localhost:8080/"
        },
        "id": "390eTyiZUK3o",
        "outputId": "895c369b-c39a-458c-d595-879040d1faf7"
      },
      "outputs": [
        {
          "output_type": "stream",
          "name": "stdout",
          "text": [
            "28\n"
          ]
        }
      ],
      "source": [
        "print(mult)"
      ]
    },
    {
      "cell_type": "markdown",
      "source": [
        "#NUMPY BASICS\n"
      ],
      "metadata": {
        "id": "Q88VqvjpdDji"
      }
    },
    {
      "cell_type": "code",
      "source": [
        "import numpy as np\n",
        "\n",
        "num = np.ones((3,4))\n",
        "print(np.linspace(1,5,3))\n",
        "print(num.reshape(1,12))\n",
        "\n",
        "a = np.arange(0,3)\n",
        "arr = np.array([[1, 2], [2,4]])\n",
        "\n",
        "print(arr.ravel())\n",
        "print(a)"
      ],
      "metadata": {
        "colab": {
          "base_uri": "https://localhost:8080/",
          "height": 235
        },
        "id": "Nf0qSK8UdC9D",
        "outputId": "fc43e3f2-f06e-4ab0-9b9e-0257d55633cd"
      },
      "execution_count": null,
      "outputs": [
        {
          "output_type": "error",
          "ename": "NameError",
          "evalue": "ignored",
          "traceback": [
            "\u001b[0;31m---------------------------------------------------------------------------\u001b[0m",
            "\u001b[0;31mNameError\u001b[0m                                 Traceback (most recent call last)",
            "\u001b[0;32m<ipython-input-1-ab2e45b9d479>\u001b[0m in \u001b[0;36m<module>\u001b[0;34m\u001b[0m\n\u001b[1;32m      1\u001b[0m \u001b[0;32mimport\u001b[0m \u001b[0mnumpy\u001b[0m \u001b[0;32mas\u001b[0m \u001b[0mnp\u001b[0m\u001b[0;34m\u001b[0m\u001b[0;34m\u001b[0m\u001b[0m\n\u001b[0;32m----> 2\u001b[0;31m \u001b[0mpwd\u001b[0m\u001b[0;34m\u001b[0m\u001b[0;34m\u001b[0m\u001b[0m\n\u001b[0m\u001b[1;32m      3\u001b[0m \u001b[0mnum\u001b[0m \u001b[0;34m=\u001b[0m \u001b[0mnp\u001b[0m\u001b[0;34m.\u001b[0m\u001b[0mones\u001b[0m\u001b[0;34m(\u001b[0m\u001b[0;34m(\u001b[0m\u001b[0;36m3\u001b[0m\u001b[0;34m,\u001b[0m\u001b[0;36m4\u001b[0m\u001b[0;34m)\u001b[0m\u001b[0;34m)\u001b[0m\u001b[0;34m\u001b[0m\u001b[0;34m\u001b[0m\u001b[0m\n\u001b[1;32m      4\u001b[0m \u001b[0mprint\u001b[0m\u001b[0;34m(\u001b[0m\u001b[0mnp\u001b[0m\u001b[0;34m.\u001b[0m\u001b[0mlinspace\u001b[0m\u001b[0;34m(\u001b[0m\u001b[0;36m1\u001b[0m\u001b[0;34m,\u001b[0m\u001b[0;36m5\u001b[0m\u001b[0;34m,\u001b[0m\u001b[0;36m3\u001b[0m\u001b[0;34m)\u001b[0m\u001b[0;34m)\u001b[0m\u001b[0;34m\u001b[0m\u001b[0;34m\u001b[0m\u001b[0m\n\u001b[1;32m      5\u001b[0m \u001b[0mprint\u001b[0m\u001b[0;34m(\u001b[0m\u001b[0mnum\u001b[0m\u001b[0;34m.\u001b[0m\u001b[0mreshape\u001b[0m\u001b[0;34m(\u001b[0m\u001b[0;36m1\u001b[0m\u001b[0;34m,\u001b[0m\u001b[0;36m12\u001b[0m\u001b[0;34m)\u001b[0m\u001b[0;34m)\u001b[0m\u001b[0;34m\u001b[0m\u001b[0;34m\u001b[0m\u001b[0m\n",
            "\u001b[0;31mNameError\u001b[0m: name 'pwd' is not defined"
          ]
        }
      ]
    },
    {
      "cell_type": "markdown",
      "source": [
        "#PANDAS BASICS \n"
      ],
      "metadata": {
        "id": "dyO52vXhqyZm"
      }
    },
    {
      "cell_type": "code",
      "source": [],
      "metadata": {
        "id": "x9cn6qipvCpH"
      },
      "execution_count": null,
      "outputs": []
    },
    {
      "cell_type": "markdown",
      "source": [],
      "metadata": {
        "id": "_rhPx1XlvBi-"
      }
    },
    {
      "cell_type": "markdown",
      "source": [
        "SETTING THE ENVIRONMENT"
      ],
      "metadata": {
        "id": "XxIt_NBHu1sO"
      }
    },
    {
      "cell_type": "code",
      "source": [
        "import numpy as np\n",
        "import pandas as pd\n",
        "\n",
        "%matplotlib inline\n",
        "import matplotlib.pyplot as plt\n",
        "import pandas_datareader as pdr\n"
      ],
      "metadata": {
        "id": "Oq0G9WdHYnoA"
      },
      "execution_count": null,
      "outputs": []
    },
    {
      "cell_type": "markdown",
      "source": [
        "# BASICS OF PANDAS"
      ],
      "metadata": {
        "id": "zSAkI_bNAwep"
      }
    },
    {
      "cell_type": "code",
      "source": [
        "from pandas._testing.asserters import DataFrame\n",
        "print(pd.__version__) #checking pandas version\n",
        "name = pd.Series([\"bethel\", \"choto\", \"Panashe\"])\n",
        "age = pd.Series([12,23,12])\n",
        "name_age = pd.DataFrame({\"Name\": name, \"Age\": age})\n",
        "print(name_age)"
      ],
      "metadata": {
        "colab": {
          "base_uri": "https://localhost:8080/"
        },
        "id": "dD2vjaDyATDE",
        "outputId": "2367a5d5-d6cb-4473-972a-b3316fbec05c"
      },
      "execution_count": null,
      "outputs": [
        {
          "output_type": "stream",
          "name": "stdout",
          "text": [
            "1.3.5\n",
            "      Name  Age\n",
            "0   bethel   12\n",
            "1    choto   23\n",
            "2  Panashe   12\n"
          ]
        }
      ]
    },
    {
      "cell_type": "markdown",
      "source": [
        "# 2. WAYS OF GETTING DATASET\n"
      ],
      "metadata": {
        "id": "W1Gk3rLDvhV9"
      }
    },
    {
      "cell_type": "code",
      "source": [
        "import os \n",
        "#amzn = pdr.get_data_yahoo('AMZN', '2012-11-01')\n",
        "#goog = pdr.get_data_yahoo('GOOG', '2012-11-01')\n",
        "\n",
        "#FROM KAGGLE\n",
        "#upload the json file into the google\n",
        "#upload a file from kaggle \n",
        "os.environ['KAGGLE_CONFIG_DIR']= '/content'\n",
        "!kaggle competitions download -c covid19-global-forecasting-week-1\n",
        "\n",
        "#if the file is not a csv file\n",
        "!kaggle datasets download -d anubhavgoyal10/most-wickets-in-test-cricket-history\n",
        "\n",
        "\n"
      ],
      "metadata": {
        "colab": {
          "base_uri": "https://localhost:8080/"
        },
        "id": "bkRDy0Nbti2C",
        "outputId": "73eb9867-bed1-424c-e20a-9db0d45582a0"
      },
      "execution_count": null,
      "outputs": [
        {
          "output_type": "stream",
          "name": "stdout",
          "text": [
            "403 - Forbidden\n",
            "Downloading most-wickets-in-test-cricket-history.zip to /content\n",
            "  0% 0.00/3.15k [00:00<?, ?B/s]\n",
            "100% 3.15k/3.15k [00:00<00:00, 5.20MB/s]\n"
          ]
        }
      ]
    },
    {
      "cell_type": "markdown",
      "source": [
        "# READING THE DATASETS"
      ],
      "metadata": {
        "id": "0AMC1ez4PUWn"
      }
    },
    {
      "cell_type": "code",
      "source": [
        "pd.read_csv('/content/sample_data/california_housing_test.csv')\n",
        "#pd.read_csv(\"/content/airports.csv\")# upload the file to the google drive\n",
        "\n",
        "#Unzipping a file\n",
        "!unzip \\*.zip && rm *.zip #unzip the file and removes it from the folder.. it then converts it to a csv file\n"
      ],
      "metadata": {
        "id": "yDmbzEesPNjf"
      },
      "execution_count": null,
      "outputs": []
    },
    {
      "cell_type": "code",
      "source": [
        "#wick = pd.read_csv('/content/Test wickets.csv')\n",
        "mnst= pd.read_csv('/content/sample_data/mnist_test.csv')\n",
        "mnst.drop('7', axis = 1)\n",
        "mnst.head()"
      ],
      "metadata": {
        "id": "rdUmyoHOVwaH",
        "colab": {
          "base_uri": "https://localhost:8080/",
          "height": 300
        },
        "outputId": "cb4d50d8-37f5-4b6d-c568-2fb4f61a544a"
      },
      "execution_count": null,
      "outputs": [
        {
          "output_type": "execute_result",
          "data": {
            "text/plain": [
              "   7  0  0.1  0.2  0.3  0.4  0.5  0.6  0.7  0.8  ...  0.658  0.659  0.660  \\\n",
              "0  2  0    0    0    0    0    0    0    0    0  ...      0      0      0   \n",
              "1  1  0    0    0    0    0    0    0    0    0  ...      0      0      0   \n",
              "2  0  0    0    0    0    0    0    0    0    0  ...      0      0      0   \n",
              "3  4  0    0    0    0    0    0    0    0    0  ...      0      0      0   \n",
              "4  1  0    0    0    0    0    0    0    0    0  ...      0      0      0   \n",
              "\n",
              "   0.661  0.662  0.663  0.664  0.665  0.666  0.667  \n",
              "0      0      0      0      0      0      0      0  \n",
              "1      0      0      0      0      0      0      0  \n",
              "2      0      0      0      0      0      0      0  \n",
              "3      0      0      0      0      0      0      0  \n",
              "4      0      0      0      0      0      0      0  \n",
              "\n",
              "[5 rows x 785 columns]"
            ],
            "text/html": [
              "\n",
              "  <div id=\"df-32897c24-2bc6-48d9-97c9-908f5af7a3ef\">\n",
              "    <div class=\"colab-df-container\">\n",
              "      <div>\n",
              "<style scoped>\n",
              "    .dataframe tbody tr th:only-of-type {\n",
              "        vertical-align: middle;\n",
              "    }\n",
              "\n",
              "    .dataframe tbody tr th {\n",
              "        vertical-align: top;\n",
              "    }\n",
              "\n",
              "    .dataframe thead th {\n",
              "        text-align: right;\n",
              "    }\n",
              "</style>\n",
              "<table border=\"1\" class=\"dataframe\">\n",
              "  <thead>\n",
              "    <tr style=\"text-align: right;\">\n",
              "      <th></th>\n",
              "      <th>7</th>\n",
              "      <th>0</th>\n",
              "      <th>0.1</th>\n",
              "      <th>0.2</th>\n",
              "      <th>0.3</th>\n",
              "      <th>0.4</th>\n",
              "      <th>0.5</th>\n",
              "      <th>0.6</th>\n",
              "      <th>0.7</th>\n",
              "      <th>0.8</th>\n",
              "      <th>...</th>\n",
              "      <th>0.658</th>\n",
              "      <th>0.659</th>\n",
              "      <th>0.660</th>\n",
              "      <th>0.661</th>\n",
              "      <th>0.662</th>\n",
              "      <th>0.663</th>\n",
              "      <th>0.664</th>\n",
              "      <th>0.665</th>\n",
              "      <th>0.666</th>\n",
              "      <th>0.667</th>\n",
              "    </tr>\n",
              "  </thead>\n",
              "  <tbody>\n",
              "    <tr>\n",
              "      <th>0</th>\n",
              "      <td>2</td>\n",
              "      <td>0</td>\n",
              "      <td>0</td>\n",
              "      <td>0</td>\n",
              "      <td>0</td>\n",
              "      <td>0</td>\n",
              "      <td>0</td>\n",
              "      <td>0</td>\n",
              "      <td>0</td>\n",
              "      <td>0</td>\n",
              "      <td>...</td>\n",
              "      <td>0</td>\n",
              "      <td>0</td>\n",
              "      <td>0</td>\n",
              "      <td>0</td>\n",
              "      <td>0</td>\n",
              "      <td>0</td>\n",
              "      <td>0</td>\n",
              "      <td>0</td>\n",
              "      <td>0</td>\n",
              "      <td>0</td>\n",
              "    </tr>\n",
              "    <tr>\n",
              "      <th>1</th>\n",
              "      <td>1</td>\n",
              "      <td>0</td>\n",
              "      <td>0</td>\n",
              "      <td>0</td>\n",
              "      <td>0</td>\n",
              "      <td>0</td>\n",
              "      <td>0</td>\n",
              "      <td>0</td>\n",
              "      <td>0</td>\n",
              "      <td>0</td>\n",
              "      <td>...</td>\n",
              "      <td>0</td>\n",
              "      <td>0</td>\n",
              "      <td>0</td>\n",
              "      <td>0</td>\n",
              "      <td>0</td>\n",
              "      <td>0</td>\n",
              "      <td>0</td>\n",
              "      <td>0</td>\n",
              "      <td>0</td>\n",
              "      <td>0</td>\n",
              "    </tr>\n",
              "    <tr>\n",
              "      <th>2</th>\n",
              "      <td>0</td>\n",
              "      <td>0</td>\n",
              "      <td>0</td>\n",
              "      <td>0</td>\n",
              "      <td>0</td>\n",
              "      <td>0</td>\n",
              "      <td>0</td>\n",
              "      <td>0</td>\n",
              "      <td>0</td>\n",
              "      <td>0</td>\n",
              "      <td>...</td>\n",
              "      <td>0</td>\n",
              "      <td>0</td>\n",
              "      <td>0</td>\n",
              "      <td>0</td>\n",
              "      <td>0</td>\n",
              "      <td>0</td>\n",
              "      <td>0</td>\n",
              "      <td>0</td>\n",
              "      <td>0</td>\n",
              "      <td>0</td>\n",
              "    </tr>\n",
              "    <tr>\n",
              "      <th>3</th>\n",
              "      <td>4</td>\n",
              "      <td>0</td>\n",
              "      <td>0</td>\n",
              "      <td>0</td>\n",
              "      <td>0</td>\n",
              "      <td>0</td>\n",
              "      <td>0</td>\n",
              "      <td>0</td>\n",
              "      <td>0</td>\n",
              "      <td>0</td>\n",
              "      <td>...</td>\n",
              "      <td>0</td>\n",
              "      <td>0</td>\n",
              "      <td>0</td>\n",
              "      <td>0</td>\n",
              "      <td>0</td>\n",
              "      <td>0</td>\n",
              "      <td>0</td>\n",
              "      <td>0</td>\n",
              "      <td>0</td>\n",
              "      <td>0</td>\n",
              "    </tr>\n",
              "    <tr>\n",
              "      <th>4</th>\n",
              "      <td>1</td>\n",
              "      <td>0</td>\n",
              "      <td>0</td>\n",
              "      <td>0</td>\n",
              "      <td>0</td>\n",
              "      <td>0</td>\n",
              "      <td>0</td>\n",
              "      <td>0</td>\n",
              "      <td>0</td>\n",
              "      <td>0</td>\n",
              "      <td>...</td>\n",
              "      <td>0</td>\n",
              "      <td>0</td>\n",
              "      <td>0</td>\n",
              "      <td>0</td>\n",
              "      <td>0</td>\n",
              "      <td>0</td>\n",
              "      <td>0</td>\n",
              "      <td>0</td>\n",
              "      <td>0</td>\n",
              "      <td>0</td>\n",
              "    </tr>\n",
              "  </tbody>\n",
              "</table>\n",
              "<p>5 rows × 785 columns</p>\n",
              "</div>\n",
              "      <button class=\"colab-df-convert\" onclick=\"convertToInteractive('df-32897c24-2bc6-48d9-97c9-908f5af7a3ef')\"\n",
              "              title=\"Convert this dataframe to an interactive table.\"\n",
              "              style=\"display:none;\">\n",
              "        \n",
              "  <svg xmlns=\"http://www.w3.org/2000/svg\" height=\"24px\"viewBox=\"0 0 24 24\"\n",
              "       width=\"24px\">\n",
              "    <path d=\"M0 0h24v24H0V0z\" fill=\"none\"/>\n",
              "    <path d=\"M18.56 5.44l.94 2.06.94-2.06 2.06-.94-2.06-.94-.94-2.06-.94 2.06-2.06.94zm-11 1L8.5 8.5l.94-2.06 2.06-.94-2.06-.94L8.5 2.5l-.94 2.06-2.06.94zm10 10l.94 2.06.94-2.06 2.06-.94-2.06-.94-.94-2.06-.94 2.06-2.06.94z\"/><path d=\"M17.41 7.96l-1.37-1.37c-.4-.4-.92-.59-1.43-.59-.52 0-1.04.2-1.43.59L10.3 9.45l-7.72 7.72c-.78.78-.78 2.05 0 2.83L4 21.41c.39.39.9.59 1.41.59.51 0 1.02-.2 1.41-.59l7.78-7.78 2.81-2.81c.8-.78.8-2.07 0-2.86zM5.41 20L4 18.59l7.72-7.72 1.47 1.35L5.41 20z\"/>\n",
              "  </svg>\n",
              "      </button>\n",
              "      \n",
              "  <style>\n",
              "    .colab-df-container {\n",
              "      display:flex;\n",
              "      flex-wrap:wrap;\n",
              "      gap: 12px;\n",
              "    }\n",
              "\n",
              "    .colab-df-convert {\n",
              "      background-color: #E8F0FE;\n",
              "      border: none;\n",
              "      border-radius: 50%;\n",
              "      cursor: pointer;\n",
              "      display: none;\n",
              "      fill: #1967D2;\n",
              "      height: 32px;\n",
              "      padding: 0 0 0 0;\n",
              "      width: 32px;\n",
              "    }\n",
              "\n",
              "    .colab-df-convert:hover {\n",
              "      background-color: #E2EBFA;\n",
              "      box-shadow: 0px 1px 2px rgba(60, 64, 67, 0.3), 0px 1px 3px 1px rgba(60, 64, 67, 0.15);\n",
              "      fill: #174EA6;\n",
              "    }\n",
              "\n",
              "    [theme=dark] .colab-df-convert {\n",
              "      background-color: #3B4455;\n",
              "      fill: #D2E3FC;\n",
              "    }\n",
              "\n",
              "    [theme=dark] .colab-df-convert:hover {\n",
              "      background-color: #434B5C;\n",
              "      box-shadow: 0px 1px 3px 1px rgba(0, 0, 0, 0.15);\n",
              "      filter: drop-shadow(0px 1px 2px rgba(0, 0, 0, 0.3));\n",
              "      fill: #FFFFFF;\n",
              "    }\n",
              "  </style>\n",
              "\n",
              "      <script>\n",
              "        const buttonEl =\n",
              "          document.querySelector('#df-32897c24-2bc6-48d9-97c9-908f5af7a3ef button.colab-df-convert');\n",
              "        buttonEl.style.display =\n",
              "          google.colab.kernel.accessAllowed ? 'block' : 'none';\n",
              "\n",
              "        async function convertToInteractive(key) {\n",
              "          const element = document.querySelector('#df-32897c24-2bc6-48d9-97c9-908f5af7a3ef');\n",
              "          const dataTable =\n",
              "            await google.colab.kernel.invokeFunction('convertToInteractive',\n",
              "                                                     [key], {});\n",
              "          if (!dataTable) return;\n",
              "\n",
              "          const docLinkHtml = 'Like what you see? Visit the ' +\n",
              "            '<a target=\"_blank\" href=https://colab.research.google.com/notebooks/data_table.ipynb>data table notebook</a>'\n",
              "            + ' to learn more about interactive tables.';\n",
              "          element.innerHTML = '';\n",
              "          dataTable['output_type'] = 'display_data';\n",
              "          await google.colab.output.renderOutput(dataTable, element);\n",
              "          const docLink = document.createElement('div');\n",
              "          docLink.innerHTML = docLinkHtml;\n",
              "          element.appendChild(docLink);\n",
              "        }\n",
              "      </script>\n",
              "    </div>\n",
              "  </div>\n",
              "  "
            ]
          },
          "metadata": {},
          "execution_count": 6
        }
      ]
    },
    {
      "cell_type": "markdown",
      "source": [
        "#DEALING WITH UNKOWNS"
      ],
      "metadata": {
        "id": "nBWUwui2bbRx"
      }
    },
    {
      "cell_type": "code",
      "source": [
        "df = pd.read_csv('airports.csv')\n",
        "type(df.Goroka[0])\n",
        "\n",
        "#new_df = df.fillna(0)\n",
        "\n",
        "forward_fill = df.fillna(method='ffill', axis = 'columns')\n",
        "backward_fill = df.fillna(method='bfill') \n",
        "forward_fill\n",
        "\n",
        "#\"\"\"df_ex = pd.fillna({\n",
        "  #  'Goroka':0\n",
        "    # you can add more values you want to change \n",
        "    #\n",
        "#})\"\"\"\n",
        "\n",
        "##DROPPING THE UNKNOWNS \n",
        "new_file = df.dropna(thresh = 2)\n",
        "new_file\n",
        "\n",
        "\n"
      ],
      "metadata": {
        "id": "i3kQgWSFbfd4"
      },
      "execution_count": null,
      "outputs": []
    },
    {
      "cell_type": "markdown",
      "source": [
        "#MATPLOTLIB"
      ],
      "metadata": {
        "id": "K5h_2IZ9JmdT"
      }
    },
    {
      "cell_type": "code",
      "source": [
        "import matplotlib.pyplot as py\n",
        "\n",
        "x = [1,2,3,4,5]\n",
        "y = [12,3,45,6,7]\n",
        "\n",
        "p = py.plot(x,y, 'r*--')\n",
        "p"
      ],
      "metadata": {
        "id": "Bul5sE8NJpA5"
      },
      "execution_count": null,
      "outputs": []
    },
    {
      "cell_type": "markdown",
      "source": [
        "#LINE GRAPHS\n"
      ],
      "metadata": {
        "id": "EAY22Z1zZl6q"
      }
    },
    {
      "cell_type": "code",
      "source": [
        "import matplotlib.pyplot as plt\n",
        "\n",
        "plt.title('WEATHER')\n",
        "plt.xlabel('days')\n",
        "plt.ylabel('temperature')\n",
        "\n",
        "\n",
        "days = [1,2,3,4,5,6,7]\n",
        "temp_1 = [23,45,67,82,23,21,20]\n",
        "temp_2 = [90,21,10,22,34,56,1]\n",
        "ave_temp = [21,5,45,21,10,15,13]\n",
        "\n",
        "plt.plot(days,temp_1, label = 'TEMP 1')\n",
        "plt.plot(days, temp_2, label = 'TEMP 2')\n",
        "plt.plot(days, ave_temp, label = 'AVG TEMP')\n",
        "\n",
        "plt.legend(shadow = 'True', loc ='upper right')#loc by defualt is set to best\n",
        "plt.grid()\n"
      ],
      "metadata": {
        "id": "w3KSSJTMSVsK"
      },
      "execution_count": null,
      "outputs": []
    },
    {
      "cell_type": "markdown",
      "source": [
        "#BAR GRAPHS"
      ],
      "metadata": {
        "id": "aUL6WzKtZq0Y"
      }
    },
    {
      "cell_type": "code",
      "source": [
        "import matplotlib.pyplot as plt\n",
        "import numpy as np\n",
        "%matplotlib inline\n",
        "\n",
        "comp = ('Goog', 'Amz', 'Eco', 'Zupco')\n",
        "revenue = (120,25,30,56)\n",
        "profit = (50,10,25,10)\n",
        "ypos = np.arange(len(comp))\n",
        "#plt.xticks(ypos, comp)\n",
        "plt.bar(ypos, revenue, label = 'Revenue')\n",
        "plt.bar(ypos,profit, label ='Profit')\n",
        "\n",
        "plt.xlabel('Company')\n",
        "plt.ylabel('Revenue')\n",
        "plt.title('Tech Companies')\n",
        "plt.legend()"
      ],
      "metadata": {
        "id": "dH8jz0oQaD1h"
      },
      "execution_count": null,
      "outputs": []
    },
    {
      "cell_type": "markdown",
      "source": [
        "# BAR PLOT\n"
      ],
      "metadata": {
        "id": "rFc1GrIJn4G-"
      }
    },
    {
      "cell_type": "code",
      "source": [
        "import matplotlib.pyplot as plt\n",
        "%matplotlib inline\n",
        "\n",
        "val = [5,10,25,50,20]\n",
        "names= [\"Zim\",\"SA\",\"Zam\",\"Moz\",\"Gh\"]\n",
        "\n",
        "plt.pie(val,labels = names, radius = 2, autopct = '%.2f%%', shadow= True, explode=[0,0,0.1,0,0], startangle= 55)\n",
        "plt.show()"
      ],
      "metadata": {
        "colab": {
          "base_uri": "https://localhost:8080/",
          "height": 423
        },
        "id": "ViCJarMen6fB",
        "outputId": "1976045f-f5dc-4e8f-edce-681c6da579ae"
      },
      "execution_count": null,
      "outputs": [
        {
          "output_type": "display_data",
          "data": {
            "text/plain": [
              "<Figure size 432x288 with 1 Axes>"
            ],
            "image/png": "[encoded data removed]"
          },
          "metadata": {}
        }
      ]
    },
    {
      "cell_type": "markdown",
      "source": [
        "#MACHINE LEARNING\n"
      ],
      "metadata": {
        "id": "PNMmA2iPJKhZ"
      }
    },
    {
      "cell_type": "code",
      "source": [],
      "metadata": {
        "id": "chq-ShSsJON4"
      },
      "execution_count": null,
      "outputs": []
    },
    {
      "cell_type": "markdown",
      "source": [
        "#EMAIL SPAN\n"
      ],
      "metadata": {
        "id": "Ax-D3ubqM0Qs"
      }
    },
    {
      "cell_type": "code",
      "source": [
        "import os\n",
        "import pandas as pd\n",
        "\n",
        "os.environ['KAGGLE_CONFIG_DIR'] = '/content'\n",
        "\n",
        "#LOADING THE DATA\n",
        "!kaggle kernels output balaka18/email-spam-classification\n",
        "\n",
        "spam = pd.read_csv('/content/email-spam-classification.log')\n",
        "\n",
        "x = spam.drop('time:1.565106851', axis = 1)\n",
        "y = spam['time:1.565106851']\n"
      ],
      "metadata": {
        "colab": {
          "base_uri": "https://localhost:8080/"
        },
        "id": "R6uk9B_oM2lG",
        "outputId": "f3baabc2-7350-44fb-fb18-968f19463dc2"
      },
      "execution_count": null,
      "outputs": [
        {
          "output_type": "stream",
          "name": "stdout",
          "text": [
            "Kernel log downloaded to /content/email-spam-classification.log \n"
          ]
        },
        {
          "output_type": "execute_result",
          "data": {
            "text/plain": [
              "NaN      time:4.305796321\n",
              "NaN    time:182.573647311\n",
              "NaN    time:183.455087127\n",
              "NaN    time:184.267754169\n",
              "]                     NaN\n",
              "Name: time:1.565106851, dtype: object"
            ]
          },
          "metadata": {},
          "execution_count": 23
        }
      ]
    },
    {
      "cell_type": "markdown",
      "source": [
        "#SPLITTING THE DATASET"
      ],
      "metadata": {
        "id": "AgS-vAGkSQon"
      }
    },
    {
      "cell_type": "code",
      "source": [
        "from sklearn.model_selection import train_test_split\n",
        "x_train, x_test, y_train, y_test = train_test_split(x, y,test_size = 0.33, random_state=42)\n",
        "\n",
        "x_train"
      ],
      "metadata": {
        "colab": {
          "base_uri": "https://localhost:8080/",
          "height": 205
        },
        "id": "nf6N6BjVSP7N",
        "outputId": "8a6e1e9d-fd80-47f3-e505-8637a435c3c1"
      },
      "execution_count": null,
      "outputs": [
        {
          "output_type": "execute_result",
          "data": {
            "text/plain": [
              "    [{\"stream_name\":\"stderr\"  \\\n",
              "NaN  {\"stream_name\":\"stderr\"   \n",
              "NaN  {\"stream_name\":\"stderr\"   \n",
              "NaN  {\"stream_name\":\"stderr\"   \n",
              "\n",
              "    data:\"[NbConvertApp] Converting notebook __notebook__.ipynb to notebook\\n\"}  \n",
              "NaN  data:\"[NbConvertApp] Converting notebook __not...                           \n",
              "NaN  data:\"[NbConvertApp] Executing notebook with k...                           \n",
              "NaN  data:\"[NbConvertApp] Writing 318342 bytes to _...                           "
            ],
            "text/html": [
              "\n",
              "  <div id=\"df-1d7cfadf-fd2f-4465-a80f-64eaa8cfd59e\">\n",
              "    <div class=\"colab-df-container\">\n",
              "      <div>\n",
              "<style scoped>\n",
              "    .dataframe tbody tr th:only-of-type {\n",
              "        vertical-align: middle;\n",
              "    }\n",
              "\n",
              "    .dataframe tbody tr th {\n",
              "        vertical-align: top;\n",
              "    }\n",
              "\n",
              "    .dataframe thead th {\n",
              "        text-align: right;\n",
              "    }\n",
              "</style>\n",
              "<table border=\"1\" class=\"dataframe\">\n",
              "  <thead>\n",
              "    <tr style=\"text-align: right;\">\n",
              "      <th></th>\n",
              "      <th>[{\"stream_name\":\"stderr\"</th>\n",
              "      <th>data:\"[NbConvertApp] Converting notebook __notebook__.ipynb to notebook\\n\"}</th>\n",
              "    </tr>\n",
              "  </thead>\n",
              "  <tbody>\n",
              "    <tr>\n",
              "      <th>NaN</th>\n",
              "      <td>{\"stream_name\":\"stderr\"</td>\n",
              "      <td>data:\"[NbConvertApp] Converting notebook __not...</td>\n",
              "    </tr>\n",
              "    <tr>\n",
              "      <th>NaN</th>\n",
              "      <td>{\"stream_name\":\"stderr\"</td>\n",
              "      <td>data:\"[NbConvertApp] Executing notebook with k...</td>\n",
              "    </tr>\n",
              "    <tr>\n",
              "      <th>NaN</th>\n",
              "      <td>{\"stream_name\":\"stderr\"</td>\n",
              "      <td>data:\"[NbConvertApp] Writing 318342 bytes to _...</td>\n",
              "    </tr>\n",
              "  </tbody>\n",
              "</table>\n",
              "</div>\n",
              "      <button class=\"colab-df-convert\" onclick=\"convertToInteractive('df-1d7cfadf-fd2f-4465-a80f-64eaa8cfd59e')\"\n",
              "              title=\"Convert this dataframe to an interactive table.\"\n",
              "              style=\"display:none;\">\n",
              "        \n",
              "  <svg xmlns=\"http://www.w3.org/2000/svg\" height=\"24px\"viewBox=\"0 0 24 24\"\n",
              "       width=\"24px\">\n",
              "    <path d=\"M0 0h24v24H0V0z\" fill=\"none\"/>\n",
              "    <path d=\"M18.56 5.44l.94 2.06.94-2.06 2.06-.94-2.06-.94-.94-2.06-.94 2.06-2.06.94zm-11 1L8.5 8.5l.94-2.06 2.06-.94-2.06-.94L8.5 2.5l-.94 2.06-2.06.94zm10 10l.94 2.06.94-2.06 2.06-.94-2.06-.94-.94-2.06-.94 2.06-2.06.94z\"/><path d=\"M17.41 7.96l-1.37-1.37c-.4-.4-.92-.59-1.43-.59-.52 0-1.04.2-1.43.59L10.3 9.45l-7.72 7.72c-.78.78-.78 2.05 0 2.83L4 21.41c.39.39.9.59 1.41.59.51 0 1.02-.2 1.41-.59l7.78-7.78 2.81-2.81c.8-.78.8-2.07 0-2.86zM5.41 20L4 18.59l7.72-7.72 1.47 1.35L5.41 20z\"/>\n",
              "  </svg>\n",
              "      </button>\n",
              "      \n",
              "  <style>\n",
              "    .colab-df-container {\n",
              "      display:flex;\n",
              "      flex-wrap:wrap;\n",
              "      gap: 12px;\n",
              "    }\n",
              "\n",
              "    .colab-df-convert {\n",
              "      background-color: #E8F0FE;\n",
              "      border: none;\n",
              "      border-radius: 50%;\n",
              "      cursor: pointer;\n",
              "      display: none;\n",
              "      fill: #1967D2;\n",
              "      height: 32px;\n",
              "      padding: 0 0 0 0;\n",
              "      width: 32px;\n",
              "    }\n",
              "\n",
              "    .colab-df-convert:hover {\n",
              "      background-color: #E2EBFA;\n",
              "      box-shadow: 0px 1px 2px rgba(60, 64, 67, 0.3), 0px 1px 3px 1px rgba(60, 64, 67, 0.15);\n",
              "      fill: #174EA6;\n",
              "    }\n",
              "\n",
              "    [theme=dark] .colab-df-convert {\n",
              "      background-color: #3B4455;\n",
              "      fill: #D2E3FC;\n",
              "    }\n",
              "\n",
              "    [theme=dark] .colab-df-convert:hover {\n",
              "      background-color: #434B5C;\n",
              "      box-shadow: 0px 1px 3px 1px rgba(0, 0, 0, 0.15);\n",
              "      filter: drop-shadow(0px 1px 2px rgba(0, 0, 0, 0.3));\n",
              "      fill: #FFFFFF;\n",
              "    }\n",
              "  </style>\n",
              "\n",
              "      <script>\n",
              "        const buttonEl =\n",
              "          document.querySelector('#df-1d7cfadf-fd2f-4465-a80f-64eaa8cfd59e button.colab-df-convert');\n",
              "        buttonEl.style.display =\n",
              "          google.colab.kernel.accessAllowed ? 'block' : 'none';\n",
              "\n",
              "        async function convertToInteractive(key) {\n",
              "          const element = document.querySelector('#df-1d7cfadf-fd2f-4465-a80f-64eaa8cfd59e');\n",
              "          const dataTable =\n",
              "            await google.colab.kernel.invokeFunction('convertToInteractive',\n",
              "                                                     [key], {});\n",
              "          if (!dataTable) return;\n",
              "\n",
              "          const docLinkHtml = 'Like what you see? Visit the ' +\n",
              "            '<a target=\"_blank\" href=https://colab.research.google.com/notebooks/data_table.ipynb>data table notebook</a>'\n",
              "            + ' to learn more about interactive tables.';\n",
              "          element.innerHTML = '';\n",
              "          dataTable['output_type'] = 'display_data';\n",
              "          await google.colab.output.renderOutput(dataTable, element);\n",
              "          const docLink = document.createElement('div');\n",
              "          docLink.innerHTML = docLinkHtml;\n",
              "          element.appendChild(docLink);\n",
              "        }\n",
              "      </script>\n",
              "    </div>\n",
              "  </div>\n",
              "  "
            ]
          },
          "metadata": {},
          "execution_count": 27
        }
      ]
    },
    {
      "cell_type": "markdown",
      "source": [
        "# TYPES OF ALGORITHMS\n"
      ],
      "metadata": {
        "id": "wKlp72LyT1qG"
      }
    },
    {
      "cell_type": "markdown",
      "source": [
        "SUPERVISED LEARNING"
      ],
      "metadata": {
        "id": "b35Px6ObUATF"
      }
    },
    {
      "cell_type": "code",
      "source": [
        "\"\"\"\n",
        "---works when both input variables and target variablesa are given.\n",
        "eg the titanic dataset where survival rate is already given to\n",
        "predicting the price aaccourding to the house characteristics\n",
        "where the house price is provided \n",
        "---it is called supervised learning bcz the its like a teacher student \n",
        "relationship where the teacher knows the answers already, but ask qnsts\"\"\"\n",
        "\n",
        "###TYPES OF SUPERVISED LEARNING \n",
        "#regression\n",
        "\"\"\"what is the temp going to be tommorrow\"\"\"\n",
        "\"\"\"---if your answer is continuous values, you are dealing with regression\n",
        "   ---if values are not continous use a  model that will output a countiouos values\n",
        "\n",
        "   \"\"\"\n",
        "#classification \n",
        "\"\"\"will it be cold or hot tomorrow \"\"\"\n",
        "\n",
        "\n",
        "\"\"\"it is important to understand the characteristics of your target variables bfr \n",
        "you begin running models and forming predictions\"\"\""
      ],
      "metadata": {
        "id": "LyJq6IzJUMhI"
      },
      "execution_count": null,
      "outputs": []
    },
    {
      "cell_type": "markdown",
      "source": [
        "#UNSUPERVISED LEARNING\n"
      ],
      "metadata": {
        "id": "qedkmSWiVv28"
      }
    },
    {
      "cell_type": "markdown",
      "source": [],
      "metadata": {
        "id": "I_rHpThAVzbU"
      }
    },
    {
      "cell_type": "code",
      "source": [
        "\"\"\"\n",
        "no target variable is provided \n",
        "the goal is to find some structure in the dataset \n",
        "there are called unsupervised bcz unlike supervised there are no teachers\n",
        "algorithms are left to discover for their own and present the interesting structure \n",
        "in the idea\n",
        "\n",
        "\n",
        "\n",
        "\"\"\""
      ],
      "metadata": {
        "id": "SHleAs12V03s"
      },
      "execution_count": null,
      "outputs": []
    }
  ]
}